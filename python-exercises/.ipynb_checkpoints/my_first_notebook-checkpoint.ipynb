{
 "cells": [
  {
   "cell_type": "code",
   "execution_count": 1,
   "id": "8cb31ab3-a3e3-45ec-8406-7f34451c839d",
   "metadata": {},
   "outputs": [
    {
     "name": "stdout",
     "output_type": "stream",
     "text": [
      "Hello World\n"
     ]
    }
   ],
   "source": [
    "print('Hello World')"
   ]
  },
  {
   "cell_type": "code",
   "execution_count": 3,
   "id": "3ed6ccf4-5e7a-4ac0-884c-f3386b3b0455",
   "metadata": {},
   "outputs": [
    {
     "data": {
      "text/plain": [
       "24"
      ]
     },
     "execution_count": 3,
     "metadata": {},
     "output_type": "execute_result"
    }
   ],
   "source": [
    "2 * 3 * 4 \n"
   ]
  },
  {
   "cell_type": "code",
   "execution_count": 4,
   "id": "97fad335-92af-4676-9dee-6881d864e47d",
   "metadata": {},
   "outputs": [
    {
     "name": "stdout",
     "output_type": "stream",
     "text": [
      "Have a great day\n"
     ]
    }
   ],
   "source": [
    "print(\"Have a great day\")"
   ]
  },
  {
   "cell_type": "code",
   "execution_count": null,
   "id": "2c37766f-2a9c-4e43-974d-e0cd41900277",
   "metadata": {},
   "outputs": [],
   "source": []
  }
 ],
 "metadata": {
  "kernelspec": {
   "display_name": "Python 3",
   "language": "python",
   "name": "python3"
  },
  "language_info": {
   "codemirror_mode": {
    "name": "ipython",
    "version": 3
   },
   "file_extension": ".py",
   "mimetype": "text/x-python",
   "name": "python",
   "nbconvert_exporter": "python",
   "pygments_lexer": "ipython3",
   "version": "3.8.8"
  }
 },
 "nbformat": 4,
 "nbformat_minor": 5
}
